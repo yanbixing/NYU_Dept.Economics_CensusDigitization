{
 "cells": [
  {
   "cell_type": "markdown",
   "metadata": {},
   "source": [
    "# 1948"
   ]
  },
  {
   "cell_type": "code",
   "execution_count": 1,
   "metadata": {
    "ExecuteTime": {
     "end_time": "2019-02-04T01:47:31.343315Z",
     "start_time": "2019-02-04T01:47:31.335492Z"
    }
   },
   "outputs": [
    {
     "data": {
      "text/plain": [
       "'/Users/Bixing/Google Drive (by783@nyu.edu)/Census digitization/Github_backups'"
      ]
     },
     "execution_count": 1,
     "metadata": {},
     "output_type": "execute_result"
    }
   ],
   "source": [
    "%pwd"
   ]
  },
  {
   "cell_type": "markdown",
   "metadata": {},
   "source": [
    "Table 103"
   ]
  },
  {
   "cell_type": "markdown",
   "metadata": {},
   "source": [
    "Note:\n",
    "\n",
    "Census File: \n",
    "http://archive.org/details/1948censusofbusi03unse"
   ]
  },
  {
   "cell_type": "markdown",
   "metadata": {},
   "source": [
    "# Code\n",
    "\n",
    "## Prepare raw df list"
   ]
  },
  {
   "cell_type": "code",
   "execution_count": 1,
   "metadata": {
    "ExecuteTime": {
     "end_time": "2019-02-04T01:25:42.455695Z",
     "start_time": "2019-02-04T01:25:41.959075Z"
    }
   },
   "outputs": [],
   "source": [
    "import pandas as pd\n",
    "import numpy as np\n",
    "\n",
    "#from PIL import Image\n",
    "\n",
    "from os import listdir\n",
    "from os.path import isfile, join\n",
    "from pandas import ExcelWriter"
   ]
  },
  {
   "cell_type": "code",
   "execution_count": 2,
   "metadata": {
    "ExecuteTime": {
     "end_time": "2019-02-04T01:25:42.495635Z",
     "start_time": "2019-02-04T01:25:42.457847Z"
    }
   },
   "outputs": [],
   "source": [
    "state_info='./Data/Intermediate/1948_State Info.xlsx'\n",
    "df_state_info=pd.read_excel(state_info,header=0,index_col=0)\n",
    "\n",
    "df_state_list=[]\n",
    "for state,page_amount in zip(df_state_info['State'],df_state_info['Page_Amount']):\n",
    "    df_state_list+=[state]*page_amount"
   ]
  },
  {
   "cell_type": "code",
   "execution_count": 3,
   "metadata": {
    "ExecuteTime": {
     "end_time": "2019-02-04T01:25:42.505841Z",
     "start_time": "2019-02-04T01:25:42.497588Z"
    }
   },
   "outputs": [
    {
     "data": {
      "text/plain": [
       "191"
      ]
     },
     "execution_count": 3,
     "metadata": {},
     "output_type": "execute_result"
    }
   ],
   "source": [
    "len(df_state_list)"
   ]
  },
  {
   "cell_type": "code",
   "execution_count": 4,
   "metadata": {
    "ExecuteTime": {
     "end_time": "2019-02-04T01:25:47.295398Z",
     "start_time": "2019-02-04T01:25:42.508032Z"
    }
   },
   "outputs": [],
   "source": [
    "file_path='./Data/Intermediate/1948_Table_103_0_to_191_modified.xlsx/'\n",
    "file_names = [f for f in listdir(file_path) if isfile(join(file_path, f))]\n",
    "file_names.sort()\n",
    "#https://stackoverflow.com/questions/3207219/how-do-i-list-all-files-of-a-directory\n",
    "\n",
    "form_raw_list=[]\n",
    "for file_name in file_names:\n",
    "    if file_name[0]!='~':# exclude temp file name\n",
    "        #print(file_name) # to check error\n",
    "        form_raw_list.append(pd.read_excel(file_path+file_name,header=None))#,index_col=0))"
   ]
  },
  {
   "cell_type": "code",
   "execution_count": 5,
   "metadata": {
    "ExecuteTime": {
     "end_time": "2019-02-04T01:25:47.301306Z",
     "start_time": "2019-02-04T01:25:47.297946Z"
    }
   },
   "outputs": [
    {
     "data": {
      "text/plain": [
       "191"
      ]
     },
     "execution_count": 5,
     "metadata": {},
     "output_type": "execute_result"
    }
   ],
   "source": [
    "len(file_names)"
   ]
  },
  {
   "cell_type": "code",
   "execution_count": 6,
   "metadata": {
    "ExecuteTime": {
     "end_time": "2019-02-04T01:25:47.305277Z",
     "start_time": "2019-02-04T01:25:47.303141Z"
    }
   },
   "outputs": [],
   "source": [
    "#col_nums=[len(df.columns.get_values()) for df in form_raw_list]\n",
    "#set(col_nums) #27"
   ]
  },
  {
   "cell_type": "code",
   "execution_count": 7,
   "metadata": {
    "ExecuteTime": {
     "end_time": "2019-02-04T01:25:47.308546Z",
     "start_time": "2019-02-04T01:25:47.306694Z"
    }
   },
   "outputs": [],
   "source": [
    "#for i in range(len(col_nums)):\n",
    "#    if col_nums[i]!=27:\n",
    "#        print(i+1)"
   ]
  },
  {
   "cell_type": "code",
   "execution_count": 8,
   "metadata": {
    "ExecuteTime": {
     "end_time": "2019-02-04T01:25:47.329309Z",
     "start_time": "2019-02-04T01:25:47.309771Z"
    }
   },
   "outputs": [
    {
     "data": {
      "text/html": [
       "<div>\n",
       "<style scoped>\n",
       "    .dataframe tbody tr th:only-of-type {\n",
       "        vertical-align: middle;\n",
       "    }\n",
       "\n",
       "    .dataframe tbody tr th {\n",
       "        vertical-align: top;\n",
       "    }\n",
       "\n",
       "    .dataframe thead th {\n",
       "        text-align: right;\n",
       "    }\n",
       "</style>\n",
       "<table border=\"1\" class=\"dataframe\">\n",
       "  <thead>\n",
       "    <tr style=\"text-align: right;\">\n",
       "      <th></th>\n",
       "      <th>0</th>\n",
       "      <th>1</th>\n",
       "      <th>2</th>\n",
       "      <th>3</th>\n",
       "      <th>4</th>\n",
       "      <th>5</th>\n",
       "      <th>6</th>\n",
       "      <th>7</th>\n",
       "      <th>8</th>\n",
       "      <th>9</th>\n",
       "      <th>...</th>\n",
       "      <th>17</th>\n",
       "      <th>18</th>\n",
       "      <th>19</th>\n",
       "      <th>20</th>\n",
       "      <th>21</th>\n",
       "      <th>22</th>\n",
       "      <th>23</th>\n",
       "      <th>24</th>\n",
       "      <th>25</th>\n",
       "      <th>26</th>\n",
       "    </tr>\n",
       "  </thead>\n",
       "  <tbody>\n",
       "    <tr>\n",
       "      <th>0</th>\n",
       "      <td>NaN</td>\n",
       "      <td>Total</td>\n",
       "      <td>NaN</td>\n",
       "      <td>NaN</td>\n",
       "      <td>NaN</td>\n",
       "      <td>NaN</td>\n",
       "      <td>NaN</td>\n",
       "      <td>Kind'of'business group</td>\n",
       "      <td>NaN</td>\n",
       "      <td>NaN</td>\n",
       "      <td>...</td>\n",
       "      <td>NaN</td>\n",
       "      <td>NaN</td>\n",
       "      <td>NaN</td>\n",
       "      <td>NaN</td>\n",
       "      <td>NaN</td>\n",
       "      <td>NaN</td>\n",
       "      <td>NaN</td>\n",
       "      <td>NaN</td>\n",
       "      <td>NaN</td>\n",
       "      <td>NaN</td>\n",
       "    </tr>\n",
       "    <tr>\n",
       "      <th>1</th>\n",
       "      <td>County and city</td>\n",
       "      <td>Estatv lish' ments (Hum' ber)</td>\n",
       "      <td>Sales, entire year (Thousand dollars)</td>\n",
       "      <td>Pay roll, entire year (Thousand dollars)</td>\n",
       "      <td>Active propri' etors, * Novem' ber (Hum' ber)</td>\n",
       "      <td>Paid employees, workweek ended nearest Nov. 15</td>\n",
       "      <td>NaN</td>\n",
       "      <td>Food group</td>\n",
       "      <td>NaN</td>\n",
       "      <td>Eating and drinking places</td>\n",
       "      <td>...</td>\n",
       "      <td>Automotive group</td>\n",
       "      <td>NaN</td>\n",
       "      <td>Gasoline serv' ice stations</td>\n",
       "      <td>NaN</td>\n",
       "      <td>Lumber, building, hardware group</td>\n",
       "      <td>NaN</td>\n",
       "      <td>Drug and proprietary stores</td>\n",
       "      <td>NaN</td>\n",
       "      <td>All other retail stores</td>\n",
       "      <td>NaN</td>\n",
       "    </tr>\n",
       "    <tr>\n",
       "      <th>2</th>\n",
       "      <td>NaN</td>\n",
       "      <td>NaN</td>\n",
       "      <td>NaN</td>\n",
       "      <td>NaN</td>\n",
       "      <td>NaN</td>\n",
       "      <td>Total (Truin' ber)</td>\n",
       "      <td>Full work' week (Hum' ber)</td>\n",
       "      <td>Stores (Hum' ber)</td>\n",
       "      <td>Sales (Thous. dol.)</td>\n",
       "      <td>Stores (Hum' ber)</td>\n",
       "      <td>...</td>\n",
       "      <td>Stores (Hum' ber)</td>\n",
       "      <td>Sales (Thous. dol.)</td>\n",
       "      <td>Stores (Hum' ber)</td>\n",
       "      <td>Sales (Thous. dol.)</td>\n",
       "      <td>Stores (Hum' ber)</td>\n",
       "      <td>Sales (Thous. dol.)</td>\n",
       "      <td>Stores (Hum' ber)</td>\n",
       "      <td>Sales (Thous. dol.)</td>\n",
       "      <td>Stores (Hum' ber)</td>\n",
       "      <td>Sales (Thous. dol.)</td>\n",
       "    </tr>\n",
       "  </tbody>\n",
       "</table>\n",
       "<p>3 rows × 27 columns</p>\n",
       "</div>"
      ],
      "text/plain": [
       "                0                              1   \\\n",
       "0              NaN                          Total   \n",
       "1  County and city  Estatv lish' ments (Hum' ber)   \n",
       "2              NaN                            NaN   \n",
       "\n",
       "                                      2   \\\n",
       "0                                    NaN   \n",
       "1  Sales, entire year (Thousand dollars)   \n",
       "2                                    NaN   \n",
       "\n",
       "                                         3   \\\n",
       "0                                       NaN   \n",
       "1  Pay roll, entire year (Thousand dollars)   \n",
       "2                                       NaN   \n",
       "\n",
       "                                              4   \\\n",
       "0                                            NaN   \n",
       "1  Active propri' etors, * Novem' ber (Hum' ber)   \n",
       "2                                            NaN   \n",
       "\n",
       "                                               5                           6   \\\n",
       "0                                             NaN                         NaN   \n",
       "1  Paid employees, workweek ended nearest Nov. 15                         NaN   \n",
       "2                              Total (Truin' ber)  Full work' week (Hum' ber)   \n",
       "\n",
       "                       7                    8                           9   \\\n",
       "0  Kind'of'business group                  NaN                         NaN   \n",
       "1              Food group                  NaN  Eating and drinking places   \n",
       "2       Stores (Hum' ber)  Sales (Thous. dol.)           Stores (Hum' ber)   \n",
       "\n",
       "          ...                          17                   18  \\\n",
       "0         ...                         NaN                  NaN   \n",
       "1         ...            Automotive group                  NaN   \n",
       "2         ...           Stores (Hum' ber)  Sales (Thous. dol.)   \n",
       "\n",
       "                            19                   20  \\\n",
       "0                          NaN                  NaN   \n",
       "1  Gasoline serv' ice stations                  NaN   \n",
       "2            Stores (Hum' ber)  Sales (Thous. dol.)   \n",
       "\n",
       "                                 21                   22  \\\n",
       "0                               NaN                  NaN   \n",
       "1  Lumber, building, hardware group                  NaN   \n",
       "2                 Stores (Hum' ber)  Sales (Thous. dol.)   \n",
       "\n",
       "                            23                   24                       25  \\\n",
       "0                          NaN                  NaN                      NaN   \n",
       "1  Drug and proprietary stores                  NaN  All other retail stores   \n",
       "2            Stores (Hum' ber)  Sales (Thous. dol.)        Stores (Hum' ber)   \n",
       "\n",
       "                    26  \n",
       "0                  NaN  \n",
       "1                  NaN  \n",
       "2  Sales (Thous. dol.)  \n",
       "\n",
       "[3 rows x 27 columns]"
      ]
     },
     "execution_count": 8,
     "metadata": {},
     "output_type": "execute_result"
    }
   ],
   "source": [
    "form_raw_list[0].head(3)"
   ]
  },
  {
   "cell_type": "markdown",
   "metadata": {},
   "source": [
    "## Cleaning"
   ]
  },
  {
   "cell_type": "code",
   "execution_count": 9,
   "metadata": {
    "ExecuteTime": {
     "end_time": "2019-02-04T01:25:47.335947Z",
     "start_time": "2019-02-04T01:25:47.331278Z"
    }
   },
   "outputs": [],
   "source": [
    "def report_start_line(df):\n",
    "    name=df[0]\n",
    "    for i in range(len(name)):\n",
    "        if pd.notnull(name[i]):\n",
    "            temp_string=str(name[i]).lower()\n",
    "            if ('county' in temp_string)&('county and' not in temp_string)&('remainder' not in temp_string):\n",
    "                return i\n",
    "            elif ('parish' in temp_string)&('parish and' not in temp_string)&('remainder' not in temp_string):\n",
    "                return i\n",
    "            elif ('division' in temp_string)&('division and' not in temp_string)&('remainder' not in temp_string):\n",
    "                return i\n",
    "    return 'o'"
   ]
  },
  {
   "cell_type": "code",
   "execution_count": 10,
   "metadata": {
    "ExecuteTime": {
     "end_time": "2019-02-04T01:25:47.375024Z",
     "start_time": "2019-02-04T01:25:47.337871Z"
    }
   },
   "outputs": [],
   "source": [
    "form_start_line=[report_start_line(df) for df in form_raw_list]"
   ]
  },
  {
   "cell_type": "code",
   "execution_count": 11,
   "metadata": {
    "ExecuteTime": {
     "end_time": "2019-02-04T01:25:47.379783Z",
     "start_time": "2019-02-04T01:25:47.376717Z"
    }
   },
   "outputs": [
    {
     "data": {
      "text/plain": [
       "{2, 3, 4, 5, 6, 7, 8, 9, 10, 11, 12, 13, 16}"
      ]
     },
     "execution_count": 11,
     "metadata": {},
     "output_type": "execute_result"
    }
   ],
   "source": [
    "set(form_start_line)"
   ]
  },
  {
   "cell_type": "code",
   "execution_count": 12,
   "metadata": {
    "ExecuteTime": {
     "end_time": "2019-02-04T01:25:47.383257Z",
     "start_time": "2019-02-04T01:25:47.381443Z"
    }
   },
   "outputs": [],
   "source": [
    "#for i in range(len(form_start_line)):\n",
    "#    if form_start_line[i]==13: print(i)"
   ]
  },
  {
   "cell_type": "code",
   "execution_count": 13,
   "metadata": {
    "ExecuteTime": {
     "end_time": "2019-02-04T01:25:47.387110Z",
     "start_time": "2019-02-04T01:25:47.385187Z"
    }
   },
   "outputs": [],
   "source": [
    "#for form_name, starter in zip([62,63,64,65,190],[6,6,3,3,3]):\n",
    "#    form_start_line[form_name-1]=starter"
   ]
  },
  {
   "cell_type": "code",
   "execution_count": 14,
   "metadata": {
    "ExecuteTime": {
     "end_time": "2019-02-04T01:25:47.410919Z",
     "start_time": "2019-02-04T01:25:47.388498Z"
    }
   },
   "outputs": [],
   "source": [
    "for i in range(len(form_raw_list)):\n",
    "    form_raw_list[i]=form_raw_list[i].iloc[form_start_line[i]:]"
   ]
  },
  {
   "cell_type": "code",
   "execution_count": 15,
   "metadata": {
    "ExecuteTime": {
     "end_time": "2019-02-04T01:25:47.428727Z",
     "start_time": "2019-02-04T01:25:47.412374Z"
    }
   },
   "outputs": [
    {
     "data": {
      "text/html": [
       "<div>\n",
       "<style scoped>\n",
       "    .dataframe tbody tr th:only-of-type {\n",
       "        vertical-align: middle;\n",
       "    }\n",
       "\n",
       "    .dataframe tbody tr th {\n",
       "        vertical-align: top;\n",
       "    }\n",
       "\n",
       "    .dataframe thead th {\n",
       "        text-align: right;\n",
       "    }\n",
       "</style>\n",
       "<table border=\"1\" class=\"dataframe\">\n",
       "  <thead>\n",
       "    <tr style=\"text-align: right;\">\n",
       "      <th></th>\n",
       "      <th>0</th>\n",
       "      <th>1</th>\n",
       "      <th>2</th>\n",
       "      <th>3</th>\n",
       "      <th>4</th>\n",
       "      <th>5</th>\n",
       "      <th>6</th>\n",
       "      <th>7</th>\n",
       "      <th>8</th>\n",
       "      <th>9</th>\n",
       "      <th>...</th>\n",
       "      <th>17</th>\n",
       "      <th>18</th>\n",
       "      <th>19</th>\n",
       "      <th>20</th>\n",
       "      <th>21</th>\n",
       "      <th>22</th>\n",
       "      <th>23</th>\n",
       "      <th>24</th>\n",
       "      <th>25</th>\n",
       "      <th>26</th>\n",
       "    </tr>\n",
       "  </thead>\n",
       "  <tbody>\n",
       "    <tr>\n",
       "      <th>3</th>\n",
       "      <td>Covington County..........</td>\n",
       "      <td>485</td>\n",
       "      <td>19.757</td>\n",
       "      <td>1.495</td>\n",
       "      <td>462</td>\n",
       "      <td>1101</td>\n",
       "      <td>922</td>\n",
       "      <td>215</td>\n",
       "      <td>5.568</td>\n",
       "      <td>75</td>\n",
       "      <td>...</td>\n",
       "      <td>22</td>\n",
       "      <td>3091</td>\n",
       "      <td>29 d</td>\n",
       "      <td>728</td>\n",
       "      <td>29</td>\n",
       "      <td>2.756</td>\n",
       "      <td>14</td>\n",
       "      <td>767</td>\n",
       "      <td>30</td>\n",
       "      <td>1.752</td>\n",
       "    </tr>\n",
       "    <tr>\n",
       "      <th>4</th>\n",
       "      <td>Andalusia.............</td>\n",
       "      <td>151</td>\n",
       "      <td>10127</td>\n",
       "      <td>852</td>\n",
       "      <td>143</td>\n",
       "      <td>612</td>\n",
       "      <td>NaN</td>\n",
       "      <td>NaN</td>\n",
       "      <td>NaN</td>\n",
       "      <td>NaN</td>\n",
       "      <td>...</td>\n",
       "      <td>NaN</td>\n",
       "      <td>NaN</td>\n",
       "      <td>O</td>\n",
       "      <td>NaN</td>\n",
       "      <td>NaN</td>\n",
       "      <td>NaN</td>\n",
       "      <td>NaN</td>\n",
       "      <td>NaN</td>\n",
       "      <td>NaN</td>\n",
       "      <td>NaN</td>\n",
       "    </tr>\n",
       "    <tr>\n",
       "      <th>5</th>\n",
       "      <td>Florala...............</td>\n",
       "      <td>81</td>\n",
       "      <td>2398</td>\n",
       "      <td>211</td>\n",
       "      <td>72</td>\n",
       "      <td>162</td>\n",
       "      <td>137</td>\n",
       "      <td>26</td>\n",
       "      <td>432</td>\n",
       "      <td>12</td>\n",
       "      <td>...</td>\n",
       "      <td>5</td>\n",
       "      <td>416</td>\n",
       "      <td>8</td>\n",
       "      <td>217</td>\n",
       "      <td>5</td>\n",
       "      <td>255</td>\n",
       "      <td>4</td>\n",
       "      <td>195</td>\n",
       "      <td>5</td>\n",
       "      <td>162</td>\n",
       "    </tr>\n",
       "  </tbody>\n",
       "</table>\n",
       "<p>3 rows × 27 columns</p>\n",
       "</div>"
      ],
      "text/plain": [
       "                           0    1       2      3    4     5    6    7      8   \\\n",
       "3  Covington County..........  485  19.757  1.495  462  1101  922  215  5.568   \n",
       "4      Andalusia.............  151   10127    852  143   612  NaN  NaN    NaN   \n",
       "5      Florala...............   81    2398    211   72   162  137   26    432   \n",
       "\n",
       "    9   ...     17    18    19   20   21     22   23   24   25     26  \n",
       "3   75  ...     22  3091  29 d  728   29  2.756   14  767   30  1.752  \n",
       "4  NaN  ...    NaN   NaN     O  NaN  NaN    NaN  NaN  NaN  NaN    NaN  \n",
       "5   12  ...      5   416     8  217    5    255    4  195    5    162  \n",
       "\n",
       "[3 rows x 27 columns]"
      ]
     },
     "execution_count": 15,
     "metadata": {},
     "output_type": "execute_result"
    }
   ],
   "source": [
    "form_raw_list[1].head(3)"
   ]
  },
  {
   "cell_type": "code",
   "execution_count": 16,
   "metadata": {
    "ExecuteTime": {
     "end_time": "2019-02-04T01:25:50.289062Z",
     "start_time": "2019-02-04T01:25:47.431342Z"
    }
   },
   "outputs": [],
   "source": [
    "for i in range(len(form_raw_list)):\n",
    "    form_raw_list[i][0]=form_raw_list[i][0].fillna('Some '+df_state_list[i]+' County')"
   ]
  },
  {
   "cell_type": "code",
   "execution_count": 17,
   "metadata": {
    "ExecuteTime": {
     "end_time": "2019-02-04T01:25:50.348457Z",
     "start_time": "2019-02-04T01:25:50.290449Z"
    }
   },
   "outputs": [],
   "source": [
    "for i in range(len(form_raw_list)):\n",
    "    form_raw_list[i][0]=form_raw_list[i][0].apply(lambda string: string.strip('.'))"
   ]
  },
  {
   "cell_type": "code",
   "execution_count": 18,
   "metadata": {
    "ExecuteTime": {
     "end_time": "2019-02-04T01:25:50.372136Z",
     "start_time": "2019-02-04T01:25:50.353750Z"
    }
   },
   "outputs": [
    {
     "data": {
      "text/html": [
       "<div>\n",
       "<style scoped>\n",
       "    .dataframe tbody tr th:only-of-type {\n",
       "        vertical-align: middle;\n",
       "    }\n",
       "\n",
       "    .dataframe tbody tr th {\n",
       "        vertical-align: top;\n",
       "    }\n",
       "\n",
       "    .dataframe thead th {\n",
       "        text-align: right;\n",
       "    }\n",
       "</style>\n",
       "<table border=\"1\" class=\"dataframe\">\n",
       "  <thead>\n",
       "    <tr style=\"text-align: right;\">\n",
       "      <th></th>\n",
       "      <th>0</th>\n",
       "      <th>1</th>\n",
       "      <th>2</th>\n",
       "      <th>3</th>\n",
       "      <th>4</th>\n",
       "      <th>5</th>\n",
       "      <th>6</th>\n",
       "      <th>7</th>\n",
       "      <th>8</th>\n",
       "      <th>9</th>\n",
       "      <th>...</th>\n",
       "      <th>17</th>\n",
       "      <th>18</th>\n",
       "      <th>19</th>\n",
       "      <th>20</th>\n",
       "      <th>21</th>\n",
       "      <th>22</th>\n",
       "      <th>23</th>\n",
       "      <th>24</th>\n",
       "      <th>25</th>\n",
       "      <th>26</th>\n",
       "    </tr>\n",
       "  </thead>\n",
       "  <tbody>\n",
       "    <tr>\n",
       "      <th>3</th>\n",
       "      <td>Covington County</td>\n",
       "      <td>485</td>\n",
       "      <td>19.757</td>\n",
       "      <td>1.495</td>\n",
       "      <td>462</td>\n",
       "      <td>1101</td>\n",
       "      <td>922</td>\n",
       "      <td>215</td>\n",
       "      <td>5.568</td>\n",
       "      <td>75</td>\n",
       "      <td>...</td>\n",
       "      <td>22</td>\n",
       "      <td>3091</td>\n",
       "      <td>29 d</td>\n",
       "      <td>728</td>\n",
       "      <td>29</td>\n",
       "      <td>2.756</td>\n",
       "      <td>14</td>\n",
       "      <td>767</td>\n",
       "      <td>30</td>\n",
       "      <td>1.752</td>\n",
       "    </tr>\n",
       "    <tr>\n",
       "      <th>4</th>\n",
       "      <td>Andalusia</td>\n",
       "      <td>151</td>\n",
       "      <td>10127</td>\n",
       "      <td>852</td>\n",
       "      <td>143</td>\n",
       "      <td>612</td>\n",
       "      <td>NaN</td>\n",
       "      <td>NaN</td>\n",
       "      <td>NaN</td>\n",
       "      <td>NaN</td>\n",
       "      <td>...</td>\n",
       "      <td>NaN</td>\n",
       "      <td>NaN</td>\n",
       "      <td>O</td>\n",
       "      <td>NaN</td>\n",
       "      <td>NaN</td>\n",
       "      <td>NaN</td>\n",
       "      <td>NaN</td>\n",
       "      <td>NaN</td>\n",
       "      <td>NaN</td>\n",
       "      <td>NaN</td>\n",
       "    </tr>\n",
       "    <tr>\n",
       "      <th>5</th>\n",
       "      <td>Florala</td>\n",
       "      <td>81</td>\n",
       "      <td>2398</td>\n",
       "      <td>211</td>\n",
       "      <td>72</td>\n",
       "      <td>162</td>\n",
       "      <td>137</td>\n",
       "      <td>26</td>\n",
       "      <td>432</td>\n",
       "      <td>12</td>\n",
       "      <td>...</td>\n",
       "      <td>5</td>\n",
       "      <td>416</td>\n",
       "      <td>8</td>\n",
       "      <td>217</td>\n",
       "      <td>5</td>\n",
       "      <td>255</td>\n",
       "      <td>4</td>\n",
       "      <td>195</td>\n",
       "      <td>5</td>\n",
       "      <td>162</td>\n",
       "    </tr>\n",
       "  </tbody>\n",
       "</table>\n",
       "<p>3 rows × 27 columns</p>\n",
       "</div>"
      ],
      "text/plain": [
       "                 0    1       2      3    4     5    6    7      8    9   \\\n",
       "3  Covington County  485  19.757  1.495  462  1101  922  215  5.568   75   \n",
       "4         Andalusia  151   10127    852  143   612  NaN  NaN    NaN  NaN   \n",
       "5           Florala   81    2398    211   72   162  137   26    432   12   \n",
       "\n",
       "   ...     17    18    19   20   21     22   23   24   25     26  \n",
       "3  ...     22  3091  29 d  728   29  2.756   14  767   30  1.752  \n",
       "4  ...    NaN   NaN     O  NaN  NaN    NaN  NaN  NaN  NaN    NaN  \n",
       "5  ...      5   416     8  217    5    255    4  195    5    162  \n",
       "\n",
       "[3 rows x 27 columns]"
      ]
     },
     "execution_count": 18,
     "metadata": {},
     "output_type": "execute_result"
    }
   ],
   "source": [
    "form_raw_list[1].head(3)"
   ]
  },
  {
   "cell_type": "code",
   "execution_count": 19,
   "metadata": {
    "ExecuteTime": {
     "end_time": "2019-02-04T01:25:50.421967Z",
     "start_time": "2019-02-04T01:25:50.375794Z"
    }
   },
   "outputs": [],
   "source": [
    "for i in range(len(form_raw_list)):\n",
    "    form_raw_list[i][27]=df_state_list[i]"
   ]
  },
  {
   "cell_type": "code",
   "execution_count": null,
   "metadata": {
    "ExecuteTime": {
     "end_time": "2019-02-04T00:32:12.685899Z",
     "start_time": "2019-02-04T00:32:12.683072Z"
    }
   },
   "outputs": [],
   "source": [
    "\n"
   ]
  },
  {
   "cell_type": "code",
   "execution_count": 20,
   "metadata": {
    "ExecuteTime": {
     "end_time": "2019-02-04T01:25:50.510323Z",
     "start_time": "2019-02-04T01:25:50.423954Z"
    }
   },
   "outputs": [],
   "source": [
    "df_output=pd.concat(form_raw_list,ignore_index=True)"
   ]
  },
  {
   "cell_type": "code",
   "execution_count": 21,
   "metadata": {
    "ExecuteTime": {
     "end_time": "2019-02-04T01:25:50.518556Z",
     "start_time": "2019-02-04T01:25:50.511768Z"
    }
   },
   "outputs": [],
   "source": [
    "colname_list= [('Location','County and city'),('Total','Establishments'),('Total','Sales'),('Total','Pay roll'),('Total','Active proprietors'),\n",
    "               ('Total','Total paid employees'),('Total','Full workweek employees'),\n",
    "               ('Food group','Stores'),('Food group','Sales'),('Eating and drinking places','Stores'),('Eating and drinking places','Sales'),\n",
    "               ('General merchandise group, general stores','Stores'),('General merchandise group, general stores','Sales'),('Apparel group','Stores'),('Apparel group','Sales'),\n",
    "               ('Furniture furnishings, appliance group','Stores'),('Furniture furnishings, appliance group','Sales'),('Automotive group','Stores'),('Automotive group','Sales'),\n",
    "               ('Gasoline service stations','Stores'),('Gasoline service stations','Sales'),('Lumber building, hardware group','Stores'),('Lumber building, hardware group','Sales'),\n",
    "               ('Drug and proprietary stores','Stores'),('Drug and proprietary stores','Sales'),('All other retail stores','Stores'),('All other retail stores','Sales'),\n",
    "               ('Location','State')]\n",
    "df_output.columns=pd.MultiIndex.from_tuples(colname_list)"
   ]
  },
  {
   "cell_type": "code",
   "execution_count": 22,
   "metadata": {
    "ExecuteTime": {
     "end_time": "2019-02-04T01:25:50.542389Z",
     "start_time": "2019-02-04T01:25:50.520690Z"
    }
   },
   "outputs": [
    {
     "data": {
      "text/html": [
       "<div>\n",
       "<style scoped>\n",
       "    .dataframe tbody tr th:only-of-type {\n",
       "        vertical-align: middle;\n",
       "    }\n",
       "\n",
       "    .dataframe tbody tr th {\n",
       "        vertical-align: top;\n",
       "    }\n",
       "\n",
       "    .dataframe thead tr th {\n",
       "        text-align: left;\n",
       "    }\n",
       "</style>\n",
       "<table border=\"1\" class=\"dataframe\">\n",
       "  <thead>\n",
       "    <tr>\n",
       "      <th></th>\n",
       "      <th>Location</th>\n",
       "      <th colspan=\"6\" halign=\"left\">Total</th>\n",
       "      <th colspan=\"2\" halign=\"left\">Food group</th>\n",
       "      <th>Eating and drinking places</th>\n",
       "      <th>...</th>\n",
       "      <th>Automotive group</th>\n",
       "      <th colspan=\"2\" halign=\"left\">Gasoline service stations</th>\n",
       "      <th colspan=\"2\" halign=\"left\">Lumber building, hardware group</th>\n",
       "      <th colspan=\"2\" halign=\"left\">Drug and proprietary stores</th>\n",
       "      <th colspan=\"2\" halign=\"left\">All other retail stores</th>\n",
       "      <th>Location</th>\n",
       "    </tr>\n",
       "    <tr>\n",
       "      <th></th>\n",
       "      <th>County and city</th>\n",
       "      <th>Establishments</th>\n",
       "      <th>Sales</th>\n",
       "      <th>Pay roll</th>\n",
       "      <th>Active proprietors</th>\n",
       "      <th>Total paid employees</th>\n",
       "      <th>Full workweek employees</th>\n",
       "      <th>Stores</th>\n",
       "      <th>Sales</th>\n",
       "      <th>Stores</th>\n",
       "      <th>...</th>\n",
       "      <th>Sales</th>\n",
       "      <th>Stores</th>\n",
       "      <th>Sales</th>\n",
       "      <th>Stores</th>\n",
       "      <th>Sales</th>\n",
       "      <th>Stores</th>\n",
       "      <th>Sales</th>\n",
       "      <th>Stores</th>\n",
       "      <th>Sales</th>\n",
       "      <th>State</th>\n",
       "    </tr>\n",
       "  </thead>\n",
       "  <tbody>\n",
       "    <tr>\n",
       "      <th>0</th>\n",
       "      <td>Autauga County</td>\n",
       "      <td>168</td>\n",
       "      <td>5.068</td>\n",
       "      <td>224</td>\n",
       "      <td>160</td>\n",
       "      <td>276</td>\n",
       "      <td>175</td>\n",
       "      <td>82</td>\n",
       "      <td>2084</td>\n",
       "      <td>13</td>\n",
       "      <td>...</td>\n",
       "      <td>536</td>\n",
       "      <td>24</td>\n",
       "      <td>646</td>\n",
       "      <td>3</td>\n",
       "      <td>353</td>\n",
       "      <td>3</td>\n",
       "      <td>172</td>\n",
       "      <td>7</td>\n",
       "      <td>_(*) .</td>\n",
       "      <td>ALABAMA</td>\n",
       "    </tr>\n",
       "    <tr>\n",
       "      <th>1</th>\n",
       "      <td>Prattville</td>\n",
       "      <td>82</td>\n",
       "      <td>3215</td>\n",
       "      <td>188</td>\n",
       "      <td>82</td>\n",
       "      <td>229</td>\n",
       "      <td>152</td>\n",
       "      <td>31</td>\n",
       "      <td>1037</td>\n",
       "      <td>11</td>\n",
       "      <td>...</td>\n",
       "      <td>536</td>\n",
       "      <td>10</td>\n",
       "      <td>178</td>\n",
       "      <td>3</td>\n",
       "      <td>353</td>\n",
       "      <td>2</td>\n",
       "      <td>(x)</td>\n",
       "      <td>6</td>\n",
       "      <td>220</td>\n",
       "      <td>ALABAMA</td>\n",
       "    </tr>\n",
       "    <tr>\n",
       "      <th>2</th>\n",
       "      <td>Remainder of County</td>\n",
       "      <td>86</td>\n",
       "      <td>1853</td>\n",
       "      <td>36</td>\n",
       "      <td>78</td>\n",
       "      <td>47</td>\n",
       "      <td>23</td>\n",
       "      <td>51</td>\n",
       "      <td>1047</td>\n",
       "      <td>2</td>\n",
       "      <td>...</td>\n",
       "      <td>• • •</td>\n",
       "      <td>14</td>\n",
       "      <td>468</td>\n",
       "      <td>...</td>\n",
       "      <td>...</td>\n",
       "      <td>1</td>\n",
       "      <td>(x)</td>\n",
       "      <td>1</td>\n",
       "      <td>(x)</td>\n",
       "      <td>ALABAMA</td>\n",
       "    </tr>\n",
       "  </tbody>\n",
       "</table>\n",
       "<p>3 rows × 28 columns</p>\n",
       "</div>"
      ],
      "text/plain": [
       "              Location          Total                                     \\\n",
       "       County and city Establishments  Sales Pay roll Active proprietors   \n",
       "0       Autauga County            168  5.068      224                160   \n",
       "1           Prattville             82   3215      188                 82   \n",
       "2  Remainder of County             86   1853       36                 78   \n",
       "\n",
       "                                               Food group        \\\n",
       "  Total paid employees Full workweek employees     Stores Sales   \n",
       "0                  276                     175         82  2084   \n",
       "1                  229                     152         31  1037   \n",
       "2                   47                      23         51  1047   \n",
       "\n",
       "  Eating and drinking places   ...    Automotive group  \\\n",
       "                      Stores   ...               Sales   \n",
       "0                         13   ...                 536   \n",
       "1                         11   ...                 536   \n",
       "2                          2   ...               • • •   \n",
       "\n",
       "  Gasoline service stations       Lumber building, hardware group        \\\n",
       "                     Stores Sales                          Stores Sales   \n",
       "0                        24   646                               3   353   \n",
       "1                        10   178                               3   353   \n",
       "2                        14   468                             ...   ...   \n",
       "\n",
       "  Drug and proprietary stores       All other retail stores         Location  \n",
       "                       Stores Sales                  Stores   Sales    State  \n",
       "0                           3   172                       7  _(*) .  ALABAMA  \n",
       "1                           2   (x)                       6     220  ALABAMA  \n",
       "2                           1   (x)                       1     (x)  ALABAMA  \n",
       "\n",
       "[3 rows x 28 columns]"
      ]
     },
     "execution_count": 22,
     "metadata": {},
     "output_type": "execute_result"
    }
   ],
   "source": [
    "df_output.head(3)"
   ]
  },
  {
   "cell_type": "code",
   "execution_count": 23,
   "metadata": {
    "ExecuteTime": {
     "end_time": "2019-02-04T01:25:53.727577Z",
     "start_time": "2019-02-04T01:25:50.543550Z"
    }
   },
   "outputs": [],
   "source": [
    "out_put_year=1948\n",
    "file_path='./Data/Processed/'\n",
    "writer = ExcelWriter(file_path+str(out_put_year)+'.xlsx')\n",
    "df_output.to_excel(writer)\n",
    "writer.save()"
   ]
  },
  {
   "cell_type": "code",
   "execution_count": null,
   "metadata": {},
   "outputs": [],
   "source": []
  },
  {
   "cell_type": "code",
   "execution_count": null,
   "metadata": {},
   "outputs": [],
   "source": []
  },
  {
   "cell_type": "code",
   "execution_count": null,
   "metadata": {},
   "outputs": [],
   "source": []
  },
  {
   "cell_type": "code",
   "execution_count": null,
   "metadata": {},
   "outputs": [],
   "source": []
  },
  {
   "cell_type": "code",
   "execution_count": null,
   "metadata": {},
   "outputs": [],
   "source": []
  }
 ],
 "metadata": {
  "kernelspec": {
   "display_name": "Python 3",
   "language": "python",
   "name": "python3"
  },
  "language_info": {
   "codemirror_mode": {
    "name": "ipython",
    "version": 3
   },
   "file_extension": ".py",
   "mimetype": "text/x-python",
   "name": "python",
   "nbconvert_exporter": "python",
   "pygments_lexer": "ipython3",
   "version": "3.7.2"
  },
  "latex_envs": {
   "LaTeX_envs_menu_present": true,
   "autoclose": false,
   "autocomplete": true,
   "bibliofile": "biblio.bib",
   "cite_by": "apalike",
   "current_citInitial": 1,
   "eqLabelWithNumbers": true,
   "eqNumInitial": 1,
   "hotkeys": {
    "equation": "Ctrl-E",
    "itemize": "Ctrl-I"
   },
   "labels_anchors": false,
   "latex_user_defs": false,
   "report_style_numbering": false,
   "user_envs_cfg": false
  },
  "toc": {
   "base_numbering": 1,
   "nav_menu": {},
   "number_sections": false,
   "sideBar": true,
   "skip_h1_title": false,
   "title_cell": "Table of Contents",
   "title_sidebar": "Contents",
   "toc_cell": false,
   "toc_position": {},
   "toc_section_display": true,
   "toc_window_display": true
  },
  "varInspector": {
   "cols": {
    "lenName": 16,
    "lenType": 16,
    "lenVar": 40
   },
   "kernels_config": {
    "python": {
     "delete_cmd_postfix": "",
     "delete_cmd_prefix": "del ",
     "library": "var_list.py",
     "varRefreshCmd": "print(var_dic_list())"
    },
    "r": {
     "delete_cmd_postfix": ") ",
     "delete_cmd_prefix": "rm(",
     "library": "var_list.r",
     "varRefreshCmd": "cat(var_dic_list()) "
    }
   },
   "types_to_exclude": [
    "module",
    "function",
    "builtin_function_or_method",
    "instance",
    "_Feature"
   ],
   "window_display": false
  }
 },
 "nbformat": 4,
 "nbformat_minor": 2
}
